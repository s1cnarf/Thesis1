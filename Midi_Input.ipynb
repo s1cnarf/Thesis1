{
 "cells": [
  {
   "cell_type": "code",
   "execution_count": 3,
   "metadata": {},
   "outputs": [],
   "source": [
    "import rtmidi\n",
    "rtmidi.API_WINDOWS_MM in rtmidi.get_compiled_api()\n",
    "\n",
    "import mido"
   ]
  },
  {
   "cell_type": "code",
   "execution_count": 4,
   "metadata": {},
   "outputs": [
    {
     "name": "stdout",
     "output_type": "stream",
     "text": [
      "note_on channel=0 note=71 velocity=112 time=0\n",
      "note_on channel=0 note=72 velocity=112 time=0\n",
      "note_off channel=0 note=79 velocity=63 time=0\n",
      "note_off channel=0 note=71 velocity=63 time=0\n",
      "note_off channel=0 note=72 velocity=63 time=0\n",
      "note_on channel=0 note=74 velocity=112 time=0\n",
      "note_on channel=0 note=79 velocity=112 time=0\n",
      "note_off channel=0 note=74 velocity=63 time=0\n",
      "note_off channel=0 note=79 velocity=63 time=0\n",
      "note_on channel=0 note=79 velocity=112 time=0\n",
      "note_on channel=0 note=72 velocity=112 time=0\n",
      "note_off channel=0 note=79 velocity=63 time=0\n",
      "note_on channel=0 note=71 velocity=112 time=0\n",
      "note_off channel=0 note=71 velocity=63 time=0\n",
      "note_off channel=0 note=72 velocity=63 time=0\n",
      "note_on channel=0 note=79 velocity=112 time=0\n",
      "note_off channel=0 note=79 velocity=63 time=0\n",
      "note_on channel=0 note=71 velocity=112 time=0\n",
      "note_on channel=0 note=72 velocity=112 time=0\n",
      "note_off channel=0 note=71 velocity=63 time=0\n",
      "note_off channel=0 note=72 velocity=63 time=0\n",
      "note_on channel=0 note=74 velocity=112 time=0\n",
      "note_off channel=0 note=74 velocity=63 time=0\n"
     ]
    },
    {
     "ename": "KeyboardInterrupt",
     "evalue": "",
     "output_type": "error",
     "traceback": [
      "\u001b[1;31m---------------------------------------------------------------------------\u001b[0m",
      "\u001b[1;31mKeyboardInterrupt\u001b[0m                         Traceback (most recent call last)",
      "\u001b[1;32md:\\Thesis\\Midi_Input.ipynb Cell 2\u001b[0m in \u001b[0;36m<cell line: 1>\u001b[1;34m()\u001b[0m\n\u001b[0;32m      <a href='vscode-notebook-cell:/d%3A/Thesis/Midi_Input.ipynb#W3sZmlsZQ%3D%3D?line=0'>1</a>\u001b[0m \u001b[39mwith\u001b[39;00m mido\u001b[39m.\u001b[39mopen_input() \u001b[39mas\u001b[39;00m inport:\n\u001b[1;32m----> <a href='vscode-notebook-cell:/d%3A/Thesis/Midi_Input.ipynb#W3sZmlsZQ%3D%3D?line=1'>2</a>\u001b[0m    \u001b[39mfor\u001b[39;00m msg \u001b[39min\u001b[39;00m inport:\n\u001b[0;32m      <a href='vscode-notebook-cell:/d%3A/Thesis/Midi_Input.ipynb#W3sZmlsZQ%3D%3D?line=2'>3</a>\u001b[0m     \u001b[39mprint\u001b[39m(msg)\n",
      "File \u001b[1;32mc:\\Python310\\lib\\site-packages\\mido\\ports.py:239\u001b[0m, in \u001b[0;36mBaseInput.__iter__\u001b[1;34m(self)\u001b[0m\n\u001b[0;32m    237\u001b[0m \u001b[39mwhile\u001b[39;00m \u001b[39mTrue\u001b[39;00m:\n\u001b[0;32m    238\u001b[0m     \u001b[39mtry\u001b[39;00m:\n\u001b[1;32m--> 239\u001b[0m         \u001b[39myield\u001b[39;00m \u001b[39mself\u001b[39;49m\u001b[39m.\u001b[39;49mreceive()\n\u001b[0;32m    240\u001b[0m     \u001b[39mexcept\u001b[39;00m \u001b[39mIOError\u001b[39;00m:\n\u001b[0;32m    241\u001b[0m         \u001b[39mif\u001b[39;00m \u001b[39mself\u001b[39m\u001b[39m.\u001b[39mclosed:\n\u001b[0;32m    242\u001b[0m             \u001b[39m# The port closed before or inside receive().\u001b[39;00m\n\u001b[0;32m    243\u001b[0m             \u001b[39m# (This makes the assumption that this is the reason,\u001b[39;00m\n\u001b[0;32m    244\u001b[0m             \u001b[39m# at the risk of masking other errors.)\u001b[39;00m\n",
      "File \u001b[1;32mc:\\Python310\\lib\\site-packages\\mido\\backends\\rtmidi.py:141\u001b[0m, in \u001b[0;36mInput.receive\u001b[1;34m(self, block)\u001b[0m\n\u001b[0;32m    139\u001b[0m \u001b[39mdef\u001b[39;00m \u001b[39mreceive\u001b[39m(\u001b[39mself\u001b[39m, block\u001b[39m=\u001b[39m\u001b[39mTrue\u001b[39;00m):\n\u001b[0;32m    140\u001b[0m     \u001b[39mif\u001b[39;00m block:\n\u001b[1;32m--> 141\u001b[0m         \u001b[39mreturn\u001b[39;00m \u001b[39mself\u001b[39;49m\u001b[39m.\u001b[39;49m_queue\u001b[39m.\u001b[39;49mget()\n\u001b[0;32m    142\u001b[0m     \u001b[39melse\u001b[39;00m:\n\u001b[0;32m    143\u001b[0m         \u001b[39mreturn\u001b[39;00m \u001b[39mself\u001b[39m\u001b[39m.\u001b[39m_queue\u001b[39m.\u001b[39mpoll()\n",
      "File \u001b[1;32mc:\\Python310\\lib\\site-packages\\mido\\backends\\_parser_queue.py:66\u001b[0m, in \u001b[0;36mParserQueue.get\u001b[1;34m(self)\u001b[0m\n\u001b[0;32m     64\u001b[0m     \u001b[39mreturn\u001b[39;00m \u001b[39mself\u001b[39m\u001b[39m.\u001b[39m_get_py2()\n\u001b[0;32m     65\u001b[0m \u001b[39melse\u001b[39;00m:\n\u001b[1;32m---> 66\u001b[0m     \u001b[39mreturn\u001b[39;00m \u001b[39mself\u001b[39;49m\u001b[39m.\u001b[39;49m_queue\u001b[39m.\u001b[39;49mget()\n",
      "File \u001b[1;32mc:\\Python310\\lib\\queue.py:171\u001b[0m, in \u001b[0;36mQueue.get\u001b[1;34m(self, block, timeout)\u001b[0m\n\u001b[0;32m    169\u001b[0m \u001b[39melif\u001b[39;00m timeout \u001b[39mis\u001b[39;00m \u001b[39mNone\u001b[39;00m:\n\u001b[0;32m    170\u001b[0m     \u001b[39mwhile\u001b[39;00m \u001b[39mnot\u001b[39;00m \u001b[39mself\u001b[39m\u001b[39m.\u001b[39m_qsize():\n\u001b[1;32m--> 171\u001b[0m         \u001b[39mself\u001b[39;49m\u001b[39m.\u001b[39;49mnot_empty\u001b[39m.\u001b[39;49mwait()\n\u001b[0;32m    172\u001b[0m \u001b[39melif\u001b[39;00m timeout \u001b[39m<\u001b[39m \u001b[39m0\u001b[39m:\n\u001b[0;32m    173\u001b[0m     \u001b[39mraise\u001b[39;00m \u001b[39mValueError\u001b[39;00m(\u001b[39m\"\u001b[39m\u001b[39m'\u001b[39m\u001b[39mtimeout\u001b[39m\u001b[39m'\u001b[39m\u001b[39m must be a non-negative number\u001b[39m\u001b[39m\"\u001b[39m)\n",
      "File \u001b[1;32mc:\\Python310\\lib\\threading.py:320\u001b[0m, in \u001b[0;36mCondition.wait\u001b[1;34m(self, timeout)\u001b[0m\n\u001b[0;32m    318\u001b[0m \u001b[39mtry\u001b[39;00m:    \u001b[39m# restore state no matter what (e.g., KeyboardInterrupt)\u001b[39;00m\n\u001b[0;32m    319\u001b[0m     \u001b[39mif\u001b[39;00m timeout \u001b[39mis\u001b[39;00m \u001b[39mNone\u001b[39;00m:\n\u001b[1;32m--> 320\u001b[0m         waiter\u001b[39m.\u001b[39;49macquire()\n\u001b[0;32m    321\u001b[0m         gotit \u001b[39m=\u001b[39m \u001b[39mTrue\u001b[39;00m\n\u001b[0;32m    322\u001b[0m     \u001b[39melse\u001b[39;00m:\n",
      "\u001b[1;31mKeyboardInterrupt\u001b[0m: "
     ]
    }
   ],
   "source": [
    "with mido.open_input() as inport:\n",
    "   for msg in inport:\n",
    "    print(msg)"
   ]
  },
  {
   "cell_type": "code",
   "execution_count": null,
   "metadata": {},
   "outputs": [],
   "source": [
    "# midiout = rtmidi.MidiOut()\n",
    "# available_ports = midiout.get_ports()\n",
    "# print(available_ports)\n",
    "\n",
    "# midiout.open_port(1)\n",
    "# midiout.is_port_open()  # should be True\n",
    "\n",
    "# from rtmidi.midiconstants import NOTE_ON, NOTE_OFF\n",
    "# midiout.send_message([NOTE_ON, 67, 100])"
   ]
  },
  {
   "cell_type": "code",
   "execution_count": null,
   "metadata": {},
   "outputs": [],
   "source": [
    "midiIn = rtmidi.MidiIn()\n",
    "midiIn.get_ports()\n",
    "midiIn.open_port(0)\n",
    "\n",
    "def handle_input(event, data=None):\n",
    "    message, deltatime = event\n",
    "    print(f'message: {message}, deltatime: {deltatime}, data: {data}')\n",
    "\n",
    "midiIn.set_callback(handle_input)"
   ]
  }
 ],
 "metadata": {
  "kernelspec": {
   "display_name": "Python 3",
   "language": "python",
   "name": "python3"
  },
  "language_info": {
   "codemirror_mode": {
    "name": "ipython",
    "version": 3
   },
   "file_extension": ".py",
   "mimetype": "text/x-python",
   "name": "python",
   "nbconvert_exporter": "python",
   "pygments_lexer": "ipython3",
   "version": "3.10.9 (tags/v3.10.9:1dd9be6, Dec  6 2022, 20:01:21) [MSC v.1934 64 bit (AMD64)]"
  },
  "orig_nbformat": 4,
  "vscode": {
   "interpreter": {
    "hash": "4fbf788748422898249cf75ed5aad943de00abca059c1daf1fb55c87a551a177"
   }
  }
 },
 "nbformat": 4,
 "nbformat_minor": 2
}
